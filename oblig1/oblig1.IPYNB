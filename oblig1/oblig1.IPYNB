{
 "cells": [
  {
   "cell_type": "markdown",
   "metadata": {},
   "source": [
    "## MAT1120 - Obligatorisk oppgave 1 "
   ]
  },
  {
   "cell_type": "markdown",
   "metadata": {},
   "source": [
    "### Oppgave 1.1\n",
    "Som et eksempel på to 3x3-matriser $A$ og $B$ der $AB \\neq BA$ kan man bruke følgende matriser:\n",
    "$$ A = \\begin{pmatrix}\n",
    "1 & 2 & 0 \\\\\n",
    "0 & 1 & 0 \\\\\n",
    "0 & 0 & 1\n",
    "\\end{pmatrix}\n",
    "B = \\begin{pmatrix}\n",
    "0 & 1 & 0 \\\\\n",
    "0 & 0 & 1 \\\\\n",
    "1 & 0 & 0\n",
    "\\end{pmatrix}$$ \n",
    "Beregner matriseproduktene $AB$ og $BA$ i python:"
   ]
  },
  {
   "cell_type": "code",
   "execution_count": 1,
   "metadata": {},
   "outputs": [
    {
     "name": "stdout",
     "output_type": "stream",
     "text": [
      "Resultat av AB:\n",
      "[[0 1 2]\n",
      " [0 0 1]\n",
      " [1 0 0]]\n",
      "Resultat av BA:\n",
      "[[0 1 0]\n",
      " [0 0 1]\n",
      " [1 2 0]]\n"
     ]
    }
   ],
   "source": [
    "import numpy as np\n",
    "\n",
    "# Definer matriser A og B\n",
    "A = np.array([[1, 2, 0],\n",
    "              [0, 1, 0],\n",
    "              [0, 0, 1]])\n",
    "\n",
    "B = np.array([[0, 1, 0],\n",
    "              [0, 0, 1],\n",
    "              [1, 0, 0]])\n",
    "\n",
    "# Beregn matriseproduktet AB\n",
    "AB = np.dot(A, B)\n",
    "\n",
    "# Beregn matriseproduktet BA\n",
    "BA = np.dot(B, A)\n",
    "\n",
    "# Skriv ut resultatene\n",
    "print(\"Resultat av AB:\")\n",
    "print(AB)\n",
    "\n",
    "print(\"Resultat av BA:\")\n",
    "print(BA)"
   ]
  },
  {
   "cell_type": "markdown",
   "metadata": {},
   "source": [
    "Ser at $AB \\neq BA$."
   ]
  }
 ],
 "metadata": {
  "kernelspec": {
   "display_name": "base",
   "language": "python",
   "name": "python3"
  },
  "language_info": {
   "codemirror_mode": {
    "name": "ipython",
    "version": 3
   },
   "file_extension": ".py",
   "mimetype": "text/x-python",
   "name": "python",
   "nbconvert_exporter": "python",
   "pygments_lexer": "ipython3",
   "version": "3.12.2"
  }
 },
 "nbformat": 4,
 "nbformat_minor": 2
}
